{
 "cells": [
  {
   "cell_type": "code",
   "execution_count": 4,
   "metadata": {},
   "outputs": [
    {
     "name": "stdout",
     "output_type": "stream",
     "text": [
      "https://eletronicos.mercadolivre.com.br/drones-e-acessorios/novo/drone_Desde_51_DisplayType_LF_OrderId_PRICE*DESC_PriceRange_600-1100_NoIndex_True\n",
      "https://eletronicos.mercadolivre.com.br/drones-e-acessorios/novo/drone_Desde_101_DisplayType_LF_OrderId_PRICE*DESC_PriceRange_600-1100_NoIndex_True\n",
      "https://eletronicos.mercadolivre.com.br/drones-e-acessorios/novo/drone_Desde_151_DisplayType_LF_OrderId_PRICE*DESC_PriceRange_600-1100_NoIndex_True\n",
      "https://eletronicos.mercadolivre.com.br/drones-e-acessorios/novo/drone_Desde_201_DisplayType_LF_OrderId_PRICE*DESC_PriceRange_600-1100_NoIndex_True\n",
      "https://eletronicos.mercadolivre.com.br/drones-e-acessorios/novo/drone_Desde_251_DisplayType_LF_OrderId_PRICE*DESC_PriceRange_600-1100_NoIndex_True\n",
      "https://eletronicos.mercadolivre.com.br/drones-e-acessorios/novo/drone_Desde_301_DisplayType_LF_OrderId_PRICE*DESC_PriceRange_600-1100_NoIndex_True\n",
      "https://eletronicos.mercadolivre.com.br/drones-e-acessorios/novo/drone_Desde_351_DisplayType_LF_OrderId_PRICE*DESC_PriceRange_600-1100_NoIndex_True\n",
      "https://eletronicos.mercadolivre.com.br/drones-e-acessorios/novo/drone_Desde_401_DisplayType_LF_OrderId_PRICE*DESC_PriceRange_600-1100_NoIndex_True\n",
      "https://eletronicos.mercadolivre.com.br/drones-e-acessorios/novo/drone_Desde_451_DisplayType_LF_OrderId_PRICE*DESC_PriceRange_600-1100_NoIndex_True\n",
      "https://eletronicos.mercadolivre.com.br/drones-e-acessorios/novo/drone_Desde_501_DisplayType_LF_OrderId_PRICE*DESC_PriceRange_600-1100_NoIndex_True\n"
     ]
    }
   ],
   "source": [
    "\n",
    "NumberOfPages = 10\n",
    "\n",
    "for step in range(NumberOfPages):\n",
    "    PageGuide = 51 + 50*step\n",
    "\n",
    "    WebSite = 'https://eletronicos.mercadolivre.com.br/drones-e-acessorios/novo/drone_Desde_'+str(PageGuide)+'_DisplayType_LF_OrderId_PRICE*DESC_PriceRange_600-1100_NoIndex_True'\n",
    "\n",
    "    print(WebSite)\n",
    "\n"
   ]
  },
  {
   "cell_type": "code",
   "execution_count": 58,
   "metadata": {},
   "outputs": [],
   "source": [
    "\n",
    "LowRange = 600\n",
    "\n",
    "HighRange = 1100\n",
    "\n",
    "preSiteLocation = 'https://eletronicos.mercadolivre.com.br/drones-e-acessorios/novo/drone'\n",
    "\n",
    "# preSiteLocation = 'https://informatica.mercadolivre.com.br/armazenamento-discos-e-acessorios-hds-ssds/'\n",
    "\n",
    "def siteCheck(PageNumber):\n",
    "    step = PageNumber\n",
    "    step = step -2\n",
    "#     print(step)\n",
    "    if step == -2:\n",
    "        DesdeAdd = ''\n",
    "        PageGuide = ''\n",
    "    elif step == -1:\n",
    "        DesdeAdd = ''\n",
    "        PageGuide = ''\n",
    "    else:\n",
    "        DesdeAdd = '_Desde_'\n",
    "        PageGuide = 51 + (50*step)\n",
    "        \n",
    "        print(step)\n",
    "        \n",
    "        print(PageGuide)\n",
    "\n",
    "    WebSite = preSiteLocation + DesdeAdd + str(PageGuide) + '_DisplayType_LF_OrderId_PRICE*DESC_PriceRange_' + str(LowRange) + '-' + str(HighRange) + '_NoIndex_True'\n",
    "    \n",
    "    return WebSite"
   ]
  },
  {
   "cell_type": "code",
   "execution_count": 59,
   "metadata": {},
   "outputs": [
    {
     "name": "stdout",
     "output_type": "stream",
     "text": [
      "3\n",
      "201\n"
     ]
    },
    {
     "data": {
      "text/plain": [
       "'https://informatica.mercadolivre.com.br/armazenamento-discos-e-acessorios-hds-ssds/_Desde_201_DisplayType_LF_OrderId_PRICE*DESC_PriceRange_600-1100_NoIndex_True'"
      ]
     },
     "execution_count": 59,
     "metadata": {},
     "output_type": "execute_result"
    }
   ],
   "source": [
    "siteCheck(5)\n"
   ]
  },
  {
   "cell_type": "code",
   "execution_count": null,
   "metadata": {},
   "outputs": [],
   "source": []
  }
 ],
 "metadata": {
  "kernelspec": {
   "display_name": "Python 3",
   "language": "python",
   "name": "python3"
  },
  "language_info": {
   "codemirror_mode": {
    "name": "ipython",
    "version": 3
   },
   "file_extension": ".py",
   "mimetype": "text/x-python",
   "name": "python",
   "nbconvert_exporter": "python",
   "pygments_lexer": "ipython3",
   "version": "3.7.4"
  }
 },
 "nbformat": 4,
 "nbformat_minor": 2
}
